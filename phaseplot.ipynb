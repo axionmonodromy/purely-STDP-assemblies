{
 "cells": [
  {
   "cell_type": "code",
   "execution_count": 1,
   "metadata": {},
   "outputs": [],
   "source": [
    "from stdp_assemblies import *"
   ]
  },
  {
   "cell_type": "code",
   "execution_count": 2,
   "metadata": {},
   "outputs": [],
   "source": [
    "def wrapper(N, w):\n",
    "    if 1 - ((N - 1) * w) < 0:\n",
    "        return -1e6\n",
    "    if 1 - ((N - 1) * w) < 0.001:\n",
    "        return -1\n",
    "    else:\n",
    "        return delta_W_th(N, w)"
   ]
  },
  {
   "cell_type": "code",
   "execution_count": 3,
   "metadata": {},
   "outputs": [],
   "source": [
    "w_max = 0.1\n",
    "N_max = 82\n",
    "points_N = 2401\n",
    "points_w = 2001\n",
    "w_ticklabels = np.arange(0.0, w_max + 0.01, 0.02)\n",
    "w_ticks = (w_ticklabels) * (points_w - 1) / w_max\n",
    "N_ticklabels = np.arange(10, N_max + 1, 10)\n",
    "N_ticks = (N_ticklabels - 2) * (points_N - 1) / (N_max - 2)"
   ]
  },
  {
   "cell_type": "code",
   "execution_count": 4,
   "metadata": {},
   "outputs": [],
   "source": [
    "grid = [\n",
    "    [wrapper(N, w) for N in np.linspace(2, 80, points_N)]\n",
    "    for w in np.linspace(0, 0.1, points_w)\n",
    "]"
   ]
  },
  {
   "cell_type": "code",
   "execution_count": 5,
   "metadata": {},
   "outputs": [
    {
     "data": {
      "text/plain": [
       "Text(0, 0.5, '$\\\\hat w$')"
      ]
     },
     "execution_count": 5,
     "metadata": {},
     "output_type": "execute_result"
    },
    {
     "data": {
      "image/png": "[encoded data removed]",
      "text/plain": [
       "<Figure size 432x288 with 1 Axes>"
      ]
     },
     "metadata": {
      "needs_background": "light"
     },
     "output_type": "display_data"
    }
   ],
   "source": [
    "from matplotlib import pyplot as plt\n",
    "from matplotlib import colors\n",
    "import matplotlib as mpl\n",
    "mpl.rcParams[\"text.usetex\"] = True\n",
    "mpl.rcParams.update({\"font.size\": 20})\n",
    "\n",
    "cmap = colors.ListedColormap([\"white\", \"blue\", \"orange\"])\n",
    "bounds = [-1e7, -2000, 0, 3]\n",
    "norm = colors.BoundaryNorm(bounds, cmap.N)\n",
    "\n",
    "fig, ax = plt.subplots()\n",
    "im = ax.imshow(grid, cmap=cmap, norm=norm, origin=\"lower\")\n",
    "ax.spines[\"top\"].set_visible(False)\n",
    "ax.spines[\"right\"].set_visible(False)\n",
    "ax.spines[\"bottom\"].set_visible(False)\n",
    "ax.spines[\"left\"].set_visible(False)\n",
    "ax.set_xticks(N_ticks)\n",
    "ax.set_xticklabels(N_ticklabels)\n",
    "ax.set_xlabel(\"$N$\")\n",
    "ax.set_yticks(w_ticks)\n",
    "ax.set_yticklabels(w_ticklabels)\n",
    "ax.set_ylabel(\"$\\hat w$\")\n",
    "fig.savefig(\"results/phaseplot/phaseplot.png\", dpi=500)\n"
   ]
  }
 ],
 "metadata": {
  "interpreter": {
   "hash": "a170f962d07ed8515a1e0cfe90051c8c49c07a10f515ca6de22ae850428164e9"
  },
  "kernelspec": {
   "display_name": "Python 3.8.8 ('base')",
   "language": "python",
   "name": "python3"
  },
  "language_info": {
   "codemirror_mode": {
    "name": "ipython",
    "version": 3
   },
   "file_extension": ".py",
   "mimetype": "text/x-python",
   "name": "python",
   "nbconvert_exporter": "python",
   "pygments_lexer": "ipython3",
   "version": "3.8.8"
  },
  "orig_nbformat": 4
 },
 "nbformat": 4,
 "nbformat_minor": 2
}
