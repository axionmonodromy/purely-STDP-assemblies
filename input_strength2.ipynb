{
 "cells": [
  {
   "cell_type": "code",
   "execution_count": 1,
   "metadata": {},
   "outputs": [],
   "source": [
    "import numpy as np\n",
    "import matplotlib.pyplot as plt\n",
    "import pars\n",
    "import matplotlib as mpl\n",
    "mpl.rcParams['text.usetex'] = True\n",
    "mpl.rcParams.update({'font.size': 20})"
   ]
  },
  {
   "cell_type": "code",
   "execution_count": 2,
   "metadata": {},
   "outputs": [],
   "source": [
    "a = np.load(\"results/wsums1.npy\")\n",
    "#b = np.load(\"results/wsums0.npy\")\n",
    "b = np.load(\"resshort001.npy\")"
   ]
  },
  {
   "cell_type": "code",
   "execution_count": 3,
   "metadata": {},
   "outputs": [],
   "source": [
    "wins = np.linspace(0.05,0.15,21)"
   ]
  },
  {
   "cell_type": "code",
   "execution_count": 4,
   "metadata": {},
   "outputs": [
    {
     "data": {
      "text/plain": [
       "([], [])"
      ]
     },
     "execution_count": 4,
     "metadata": {},
     "output_type": "execute_result"
    },
    {
     "data": {
      "image/png": "[encoded data removed]",
      "text/plain": [
       "<Figure size 432x288 with 1 Axes>"
      ]
     },
     "metadata": {},
     "output_type": "display_data"
    }
   ],
   "source": [
    "#for amat in a:\n",
    "#    plt.imshow(amat[:-1,:-1],cmap=\"Blues\",vmin=0.0,vmax=0.026)\n",
    "#    plt.show()\n",
    "#wins[12]\n",
    "plt.imshow(a[12][:-1,:-1],cmap=\"Blues\",vmin=0.0,vmax=0.026)\n",
    "plt.xticks([])\n",
    "plt.yticks([])\n",
    "#plt.savefig(\"imprint011.svg\")"
   ]
  },
  {
   "cell_type": "code",
   "execution_count": 5,
   "metadata": {},
   "outputs": [
    {
     "data": {
      "text/plain": [
       "([], [])"
      ]
     },
     "execution_count": 5,
     "metadata": {},
     "output_type": "execute_result"
    },
    {
     "data": {
      "image/png": "[encoded data removed]",
      "text/plain": [
       "<Figure size 432x288 with 1 Axes>"
      ]
     },
     "metadata": {},
     "output_type": "display_data"
    }
   ],
   "source": [
    "plt.imshow(a[10][:-1,:-1],cmap=\"Blues\",vmin=0.0,vmax=0.026)\n",
    "plt.xticks([])\n",
    "plt.yticks([])\n",
    "#plt.savefig(\"imprint010.svg\")"
   ]
  },
  {
   "cell_type": "code",
   "execution_count": 7,
   "metadata": {},
   "outputs": [],
   "source": [
    "maxsum = (20*20-20)*pars.pars_network[\"w_max\"]\n",
    "asums = [np.sum(W[:20,:20])/maxsum for W in a]\n",
    "bsums = [res/maxsum for res in b]"
   ]
  },
  {
   "cell_type": "code",
   "execution_count": 8,
   "metadata": {},
   "outputs": [
    {
     "name": "stdout",
     "output_type": "stream",
     "text": [
      "0.0010000000000000002\n"
     ]
    }
   ],
   "source": [
    "mua = pars.pars_grid[1][\"dw\"]\n",
    "print(mua)\n",
    "theory = 0.109104"
   ]
  },
  {
   "cell_type": "code",
   "execution_count": 14,
   "metadata": {},
   "outputs": [
    {
     "data": {
      "image/png": "[encoded data removed]",
      "text/plain": [
       "<Figure size 432x288 with 1 Axes>"
      ]
     },
     "metadata": {
      "needs_background": "light"
     },
     "output_type": "display_data"
    }
   ],
   "source": [
    "fig, ax = plt.subplots(1,1)\n",
    "ax.plot(wins,bsums,\".\",label=\"$\\mu=0.01$\")\n",
    "ax.plot(wins,asums,\".\",label=\"$\\mu = 0.001$\")\n",
    "ax.vlines(theory, -1, 10,colors=\"black\", label='$w_{\\mathrm{in}, \\Theta }$')\n",
    "ax.set_ylim([-0.05,1.0])\n",
    "ax.legend()\n",
    "plt.xlabel(\"$w_{\\mathrm{in}}$\")\n",
    "plt.ylabel(\"Assembly strength\")\n",
    "\n",
    "fig.savefig(\"imprint2.svg\")"
   ]
  },
  {
   "cell_type": "code",
   "execution_count": null,
   "metadata": {},
   "outputs": [],
   "source": [
    "#plt.plot(wins,a,'.')\n",
    "#plt.plot(wins,1000*b,'.')"
   ]
  },
  {
   "cell_type": "code",
   "execution_count": null,
   "metadata": {},
   "outputs": [],
   "source": [
    "#c = np.load(\"results/wsums0.npy\")\n",
    "#plt.plot(wins,c,'.')"
   ]
  },
  {
   "cell_type": "code",
   "execution_count": null,
   "metadata": {},
   "outputs": [],
   "source": []
  },
  {
   "cell_type": "code",
   "execution_count": null,
   "metadata": {},
   "outputs": [],
   "source": []
  }
 ],
 "metadata": {
  "interpreter": {
   "hash": "a170f962d07ed8515a1e0cfe90051c8c49c07a10f515ca6de22ae850428164e9"
  },
  "kernelspec": {
   "display_name": "Python 3.8.8 ('base')",
   "language": "python",
   "name": "python3"
  },
  "language_info": {
   "codemirror_mode": {
    "name": "ipython",
    "version": 3
   },
   "file_extension": ".py",
   "mimetype": "text/x-python",
   "name": "python",
   "nbconvert_exporter": "python",
   "pygments_lexer": "ipython3",
   "version": "3.8.8"
  },
  "orig_nbformat": 4
 },
 "nbformat": 4,
 "nbformat_minor": 2
}
